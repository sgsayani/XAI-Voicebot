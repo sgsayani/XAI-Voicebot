{
 "cells": [
  {
   "cell_type": "code",
   "execution_count": null,
   "id": "10e36130",
   "metadata": {},
   "outputs": [],
   "source": [
    "import numpy as np \n",
    "import pandas as pd \n",
    "import keras.losses\n",
    "from sklearn.feature_extraction.text import CountVectorizer\n",
    "from keras.preprocessing.text import Tokenizer\n",
    "from tensorflow.keras.preprocessing.sequence import pad_sequences\n",
    "from keras.models import Sequential\n",
    "from keras.layers import Dense, Embedding, LSTM, SpatialDropout1D\n",
    "from sklearn.model_selection import train_test_split\n",
    "from tensorflow.python.keras.utils.np_utils import to_categorical\n",
    "import re\n",
    "from keras.backend import clear_session"
   ]
  },
  {
   "cell_type": "code",
   "execution_count": null,
   "id": "932ff41a",
   "metadata": {},
   "outputs": [],
   "source": [
    "data = pd.read_csv('train.csv')\n",
    "data =data.dropna()\n",
    "print(data)"
   ]
  },
  {
   "cell_type": "code",
   "execution_count": null,
   "id": "52f21c7b",
   "metadata": {},
   "outputs": [],
   "source": [
    "data.isnull().sum()"
   ]
  },
  {
   "cell_type": "code",
   "execution_count": null,
   "id": "d9c5d975",
   "metadata": {},
   "outputs": [],
   "source": [
    "data.head() "
   ]
  },
  {
   "cell_type": "code",
   "execution_count": null,
   "id": "518e1a33",
   "metadata": {},
   "outputs": [],
   "source": [
    "data = data[['selected_text','sentiment']]\n",
    "print(data)"
   ]
  },
  {
   "cell_type": "code",
   "execution_count": null,
   "id": "cb7f9640",
   "metadata": {},
   "outputs": [],
   "source": [
    "data = data[data.sentiment != \"Neutral\"]\n",
    "data['selected_text'] = data['selected_text'].astype(str).apply(lambda x: x.lower())\n",
    "data['selected_text'] = data['selected_text'].apply((lambda x:re.sub('[^a-zA-z0-9\\s]','',x)))\n",
    "\n",
    " \n",
    "print(data[ data['sentiment']=='positive'].size)\n",
    "print(data[ data['sentiment']=='negative'].size)\n",
    "\n",
    "for idx,row in data.iterrows():\n",
    "  row[0]=row[0].replace('rt',' ')\n",
    "max_features = 500\n",
    "tokenizer = Tokenizer(num_words = max_features,split=' ')\n",
    "tokenizer.fit_on_texts(data['selected_text'].values)\n",
    "x=tokenizer.texts_to_sequences(data['selected_text'].values)\n",
    "x=pad_sequences(x)"
   ]
  },
  {
   "cell_type": "code",
   "execution_count": null,
   "id": "12007878",
   "metadata": {},
   "outputs": [],
   "source": [
    "y=pd.get_dummies(data['sentiment']).values\n",
    "\n",
    "x_train,x_test,y_train,y_test=train_test_split(x,y,test_size=0.1,random_state=42)\n",
    "clear_session()\n",
    "print(x_train.shape, y_train.shape)\n",
    "print(x_test.shape, y_test.shape)\n"
   ]
  },
  {
   "cell_type": "code",
   "execution_count": null,
   "id": "fe45126e",
   "metadata": {},
   "outputs": [],
   "source": [
    "embed_dim = 128\n",
    "lstm_out = 196\n",
    "\n",
    "model = Sequential()\n",
    "\n",
    "model.add(Embedding(max_features,embed_dim,input_length=x.shape[1]))\n",
    "\n",
    "model.add(SpatialDropout1D(0.4))\n",
    "\n",
    "model.add(LSTM(lstm_out,dropout=0.5,recurrent_dropout=0.2))\n",
    "\n",
    "model.add(Dense(3,activation='softmax'))\n",
    "\n",
    "model.add(Dense(3,activation='softmax'))\n",
    "#model.compile(loss='categorical_crossentropy', optimizer=SGD, metrics=['accuracy'])\n",
    "\n",
    "model.compile(loss='categorical_crossentropy',optimizer='adam',metrics=['accuracy'])\n",
    "#model.compile(loss='categorical_crossentropy', optimizer='adam', metrics=['accuracy'])\n",
    "\n",
    "model.summary()\n"
   ]
  },
  {
   "cell_type": "code",
   "execution_count": null,
   "id": "4c14f52d",
   "metadata": {},
   "outputs": [],
   "source": [
    "batch_size = 56\n",
    "model.fit(x_train, y_train, epochs = 30, batch_size=batch_size, verbose = 2,validation_split=0.1)"
   ]
  },
  {
   "cell_type": "code",
   "execution_count": null,
   "id": "80d39346",
   "metadata": {},
   "outputs": [],
   "source": []
  }
 ],
 "metadata": {
  "kernelspec": {
   "display_name": "Python 3 (ipykernel)",
   "language": "python",
   "name": "python3"
  },
  "language_info": {
   "codemirror_mode": {
    "name": "ipython",
    "version": 3
   },
   "file_extension": ".py",
   "mimetype": "text/x-python",
   "name": "python",
   "nbconvert_exporter": "python",
   "pygments_lexer": "ipython3",
   "version": "3.10.6"
  }
 },
 "nbformat": 4,
 "nbformat_minor": 5
}
